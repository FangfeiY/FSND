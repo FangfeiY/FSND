{
 "metadata": {
  "language_info": {
   "codemirror_mode": {
    "name": "ipython",
    "version": 3
   },
   "file_extension": ".py",
   "mimetype": "text/x-python",
   "name": "python",
   "nbconvert_exporter": "python",
   "pygments_lexer": "ipython3",
   "version": 3
  },
  "orig_nbformat": 2
 },
 "nbformat": 4,
 "nbformat_minor": 2,
 "cells": [
  {
   "source": [
    "# Documentation of Trivia API"
   ],
   "cell_type": "markdown",
   "metadata": {}
  },
  {
   "source": [
    "## Introduction\n",
    "The functions in this Trivia API server allows web app users to create trivia questions by categories, browes questions and answers, and play quizzes created by randomly drawing questions from a category."
   ],
   "cell_type": "markdown",
   "metadata": {}
  },
  {
   "source": [
    "## Getting Started\n",
    "- Base URL: At this momnent this app can only run locally and doesn't have its dedicated base URL. The API server is hosted at http://127.0.0.1:5000/.\n",
    "- Authentication: This API server doesn't require authentication or API keys."
   ],
   "cell_type": "markdown",
   "metadata": {}
  },
  {
   "source": [
    "## Error Handling\n",
    "Errors are returned as JSON objects in the following format:\n",
    "```\n",
    "{\n",
    "    'success': False,\n",
    "    'error': 404,\n",
    "    'message': 'not found'\n",
    "}\n",
    "```\n",
    "\n",
    "The API will return the following types of errors should the requests fail:\n",
    "- 400: Bad Request\n",
    "- 404: Resource Not Found\n",
    "- 422: Request Not Processable\n",
    "- 500: Internal Server Error"
   ],
   "cell_type": "markdown",
   "metadata": {}
  },
  {
   "source": [
    "## End Point Library\n",
    "\n",
    "### GET /categories\n",
    "- Purpose: Returns a list of question categories and success value.\n",
    "- Sample: ```curl http://127.0.0.1:5000/categories```\n",
    "\n",
    "- ```\n",
    "Respond{\n",
    "    'success': True,\n",
    "    'categories':[\n",
    "        {'1': 'Science'},\n",
    "        {'2': 'Art'}\n",
    "    ]\n",
    "}\n",
    "\n",
    "```"
   ],
   "cell_type": "markdown",
   "metadata": {}
  },
  {
   "source": [
    "### GET /questions\n",
    "- Purpose: \n",
    "    - Returns a list of question objects, a list of categories, total number of questions, and success value.\n",
    "    - Returned questions are paginated in groups of 10, based on the page parameter attached to the request. The default page parameter is 1.\n",
    "- Sample: ```curl http://127.0.0.1:5000/questions?page=1```\n",
    "\n",
    "- ```\n",
    "Respond{\n",
    "    'success':True,\n",
    "    'questions': [\n",
    "        {\n",
    "            'id': 1,\n",
    "            'question': 'What is Python?',\n",
    "            'answer': 'A programming language.',\n",
    "            'category': 1,\n",
    "            'difficulty': 1\n",
    "        }\n",
    "    ],\n",
    "    'total_questions': 20,\n",
    "    'categories': [\n",
    "        {'1': 'Science'},\n",
    "        {'2': 'Art'}\n",
    "    ]\n",
    "}\n",
    "```"
   ],
   "cell_type": "markdown",
   "metadata": {}
  },
  {
   "source": [
    "### DELETE /questions/{question_id}\n",
    "- Purpose: Deletes the question of the given ID if it exists. Returns the success value.\n",
    "- Sample: ```curl -X DELETE http://127.0.0.1:5000/questions/1```\n",
    "- ```\n",
    "Respond{\n",
    "    'success': True\n",
    "}\n",
    "```"
   ],
   "cell_type": "markdown",
   "metadata": {}
  },
  {
   "source": [
    "### POST /questions\n",
    "- Purpose: Creates a new question using the submitted question description, answer, category, and difficulty. Returns the success value.\n",
    "- Sample: ```curl http://127.0.0.1:5000/questions -X POST -H 'Content-Type: application/json' -d '{\"question\": \"When was iPhone born?\", \"answer\": \"2007\", \"category\": \"1\", \"difficulty\": \"1\"}' ```\n",
    "- ```\n",
    "Respond{\n",
    "    'success': True\n",
    "}\n",
    "```"
   ],
   "cell_type": "markdown",
   "metadata": {}
  },
  {
   "source": [
    "### POST /questions/search\n",
    "- Purpose: Search the questions containing the submitted search term. Returns all qualifying questions, number of questions in the search results, current category, and the success value.\n",
    "- Sample: ```curl http://127.0.0.1:5000/questions/search -X POST -H 'Content-Type: application/json' -d '{\"searchTerm\": \"Python\"}' ```\n",
    "- ```\n",
    "Respond{\n",
    "    'success': True,\n",
    "    'questions': [{\n",
    "      'id': 1,\n",
    "      'question': 'What is Python?',\n",
    "      'answer': 'A programming language.',\n",
    "      'category': 1,\n",
    "      'difficulty': 1\n",
    "    }],\n",
    "    'total_questions': 1,\n",
    "    'current_category': 1\n",
    "}\n",
    "```"
   ],
   "cell_type": "markdown",
   "metadata": {}
  },
  {
   "source": [
    "### GET /categories/{category_id}/questions\n",
    "- Purpose: Returns a list of questions of the specified category, number of questions in this category, the selected category, and the success value.\n",
    "- Sample: ```curl http://127.0.0.1:5000/categories/1/questions```\n",
    "- ```\n",
    "Respond{\n",
    "    'success': True,\n",
    "    'questions': [{\n",
    "        'id': 1,\n",
    "        'question': 'What is Python?',\n",
    "        'answer': 'A programming language.',\n",
    "        'category': 1,\n",
    "        'difficulty': 1\n",
    "    }],\n",
    "    'total_questions': 1,\n",
    "    'current_category': 1\n",
    "}\n",
    "```"
   ],
   "cell_type": "markdown",
   "metadata": {}
  },
  {
   "source": [
    "### POST /quizzes\n",
    "- Purpose: \n",
    "    - Gets questions of the specified category to play the quiz.\n",
    "    - Takes 2 parameters from the request body: the category and a list of IDs of the questions that are already shown\n",
    "    - Returns a random question within the given category, and that is not one of the previous questions.\n",
    "    - Returns null to indicate the end of the quiz in the following circumstances: 1)Users have played five questions of the chosen category; 2) There are fewer than five questions in the category.\n",
    "- Sample: ```curl http://127.0.0.1:5000/quizzes -X POST -H 'Content-Type: application/json' -d '{\"previous_questions\": [1, 2, 3], \"quiz_category\": {\"type\": \"Science\", \"id\": 1}}' ```\n",
    "- ```\n",
    "Respond{\n",
    "    'success': True,\n",
    "    'question': {\n",
    "        'id': 1,\n",
    "        'question': 'What is Python?',\n",
    "        'answer': 'A programming language.',\n",
    "        'category': 1,\n",
    "        'difficulty': 1\n",
    "    }\n",
    "}\n",
    "```\n",
    "\n"
   ],
   "cell_type": "markdown",
   "metadata": {}
  }
 ]
}